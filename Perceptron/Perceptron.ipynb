{
 "cells": [
  {
   "cell_type": "code",
   "execution_count": 3,
   "metadata": {},
   "outputs": [],
   "source": [
    "\"\"\"\n",
    "###    PERCEPTRON    ###\n",
    "### RAMAZAN ÜSTÜNTAŞ ###\n",
    "###     150401054    ### \n",
    "\n",
    "\"\"\"\n",
    "\n",
    "import numpy as np\n",
    "\n",
    "class Perceptron(object):\n",
    "    \"\"\"Implements a perceptron network\"\"\"\n",
    "    def __init__(self,input_size, lr=1, epochs=10):\n",
    "        self.W = np.zeros(input_size+1)\n",
    "        # add one for bias\n",
    "        self.epochs = epochs\n",
    "        self.lr = lr\n",
    "    def activation_fn(self, x):\n",
    "        return 1 if x >= 0 else 0\n",
    "    def predict(self, x):\n",
    "        x = np.insert(x, 0, 1)\n",
    "        z = self.W.T.dot(x)\n",
    "        a = self.activation_fn(z)\n",
    "        return a\n",
    "    def fit(self, X, d):\n",
    "        for _ in range(self.epochs):\n",
    "            for i in range(d.shape[0]):\n",
    "                y = self.predict(X[i])\n",
    "                e = d[i] - y\n",
    "                self.W = self.W + self.lr * e * np.insert(X[i], 0, 1)  "
   ]
  },
  {
   "cell_type": "code",
   "execution_count": null,
   "metadata": {},
   "outputs": [],
   "source": [
    "\"\"\"\n",
    "--> 1.SORU \"Perceptron class tanımınında var olan fonksiyonları kısaca tanıtınız.\"\n",
    " -> Cevap:\n",
    "\n",
    "    1.fonksiyon *-* def __init__(self, input_size, lr=1, epochs=10) fonksiyonu: \n",
    "\n",
    "            \"epochs\" ve \"lr\" değişkenlerin değerleri varsayılan olarak parametrede atanmıştır.\n",
    "        W parametresine sıfırlardan oluşan bir dizi tanımlanıyor. Algılayıcımızı oluşturmak için, ağırlık vektörümüzü oluşturmak için kaç girdi olduğunu bilmemiz gerekir.\n",
    "        Ağırlık vektörüne sapmayı dahil etmek için input_size'a (+1) ekleniyor.\n",
    "        \n",
    "        Epochs=> Öğrenme algoritmasının tüm eğitim veri kümesinde kaç kez çalışacağını tanımlayan bir hiperparametredir. \n",
    "                *Pratik verilerinin kaç kez çalıştırılacağıdır*.\n",
    "        \n",
    "        Öğrenme Oranı/Hızı(LR)=> Öğrenme oranı/hızı(Learning Rate), model ağırlıkları her güncellendiğinde tahmin edilen hataya yanıt olarak modelin \n",
    "                          ne kadar değiştirileceğini kontrol eden bir hiperparametredir.  \n",
    "\n",
    "    2.fonksiyon *-* def activation_fn(self, x) \n",
    "            \n",
    "            Bu fonksiyon üretilen x değerinin kontrolünü gerçekleştiriyor. Üretilen X değeri sıfırdan büyükse 1, değilse 0 döndürmektedir. \n",
    "        Bu şekilde, Perceptron(Algılayıcı), iki sınıfı(0,1) ayırmak için doğrusal bir denklemin kullanılabileceği bir sınıflandırma olanağı sağlar.\n",
    "    \n",
    "    \n",
    "    3.fonksiyon *-* def predict(self, x)\n",
    "            \n",
    "            Algılayıcı aracılığıyla bir girdi çalıştırmak ve bir çıktı döndürmek için bir işleve ihtiyacımız var. Geleneksel olarak buna \"tahmin\" denir.\n",
    "        Eğilimi giriş vektörüne ekliyoruz. O zaman iç çarpımı basitçe hesaplayabilir ve aktivasyon fonksiyonunu uygulayabiliriz.\n",
    "        Gelen x değerinin ilk değerine(index 0) 1'i eklemekte ve daha sonra bu değeri yukarıda oluşturduğu W'nin\n",
    "        transpozesini alarak dot product işlemini gerçekleştirmekte ve bir çıktı elde edilmektedir. Bu işlemlerden çıkan z sonucunu\n",
    "        def activation_fn fonksiyonuna parametre olarak gönderiliyor ve activation'dan gelen sonucu geri döndürüyor.\n",
    "    \n",
    "    \n",
    "    4.fonksiyon *-* def fit(self, X, d)\n",
    "            \n",
    "            Girdiler ve istenen çıktılar verilen bir fonksiyon, perceptron öğrenme algoritmamızı çalıştırabiliriz. Ağırlıkları günceller.\n",
    "        Ağırlık güncellemesini gerçekleştirirken input'a önyargı ekler.\n",
    "        Ardından tahminimizi oluşturabilir, hatamızı hesaplayabilir ve güncelleme kuralımızı uygulayabiliriz.\n",
    "            \n",
    "            X'in içerisindeki veri kadar dolaşılmakta e = d - y formülü kullanarak hata(error) bulunmakta ve sonrasında\n",
    "         w = w + n . e . x formülü uygulanmaktadır.\n",
    "\n",
    "\n",
    "\"\"\""
   ]
  },
  {
   "cell_type": "code",
   "execution_count": 4,
   "metadata": {},
   "outputs": [
    {
     "data": {
      "text/plain": [
       "array([0., 0., 0.])"
      ]
     },
     "execution_count": 4,
     "metadata": {},
     "output_type": "execute_result"
    }
   ],
   "source": [
    "\"\"\"\n",
    "-->2.SORU \"XOR için verileri değiştirip çalışmasınızı gözlemleyiniz.\"\n",
    "\n",
    " ->Cevap: \"\"\"\n",
    "\n",
    "d_XOR = np.array([0, 1, 1, 0]) # XOR [0,1,1,0]\n",
    "\n",
    "perceptron_XOR = Perceptron(input_size=2)\n",
    "perceptron_XOR.W"
   ]
  },
  {
   "cell_type": "code",
   "execution_count": 18,
   "metadata": {},
   "outputs": [
    {
     "name": "stdout",
     "output_type": "stream",
     "text": [
      "[ 0. -1.  0.]\n"
     ]
    }
   ],
   "source": [
    "# XOR SONUCUNDA [ 0. -1.  0.] ELDE EDİLİYOR.\n",
    "perceptron_XOR.fit(X, d_XOR)\n",
    "print(perceptron_XOR.W)      "
   ]
  },
  {
   "cell_type": "code",
   "execution_count": null,
   "metadata": {},
   "outputs": [],
   "source": [
    "\"\"\"\n",
    "-->3.SORU \"bu class ile dersimize kayıtlı 40 öğrenci için imza tanıması yapılırsa X ve d değerlerini ne olur, predict fonksiyonu nasıl kullanılır açıklayınız.\"\n",
    " ->Cevap:\n",
    "    \n",
    "        40 imzanın herbiri için bir yükseklik-genişlik inputu olur. X, 100x100 lük bir imza image'ında (100*100*3,40) matris verisi olacaktır.\n",
    "    d'ye karşılık 40 farklı çıktı değeri olacaktır. Predict fonksiyonunda ise 40 kişilik bir sınıfın imza stoğu için herbir imzanın tahmini elde \n",
    "    edilir, activation_fn fonksiyonuna gönderilir ve fit için bir geri döndürüm sağlanır.\n",
    "\n",
    "\"\"\""
   ]
  },
  {
   "cell_type": "code",
   "execution_count": null,
   "metadata": {},
   "outputs": [],
   "source": [
    "\"\"\"\n",
    "--> 4.SORU \"Bu modelin hatası nasıl elde edilir, kendi çözümünüzü/ yorumunuzu yazınız.\"\n",
    " -> Cevap:\n",
    "            Ölçüm aracı olarak elimizde tahmin edilen(olası) bir çıktı ile asıl gerçek sonucun farkından yararlanılarak hata bulunabilir.\n",
    "            Tahmini sonuç ile asıl sonucun farkı yardımıyla asıl(istenen) sonucun tahmini sonuçtan sapma payı ölçülebilir ve bu pay \"hata\" olarak \n",
    "            kabul edilebilir/tanımlanabilir.\n",
    "\"\"\""
   ]
  },
  {
   "cell_type": "code",
   "execution_count": 6,
   "metadata": {},
   "outputs": [],
   "source": [
    "X = np.array([\n",
    "        [0, 0],\n",
    "        [0, 1],\n",
    "        [1, 0],\n",
    "        [1, 1]\n",
    "    ])"
   ]
  },
  {
   "cell_type": "code",
   "execution_count": 7,
   "metadata": {},
   "outputs": [],
   "source": [
    "d = np.array([0, 0, 0, 1])"
   ]
  },
  {
   "cell_type": "code",
   "execution_count": 8,
   "metadata": {},
   "outputs": [
    {
     "data": {
      "text/plain": [
       "array([[0, 0],\n",
       "       [0, 1],\n",
       "       [1, 0],\n",
       "       [1, 1]])"
      ]
     },
     "execution_count": 8,
     "metadata": {},
     "output_type": "execute_result"
    }
   ],
   "source": [
    "X"
   ]
  },
  {
   "cell_type": "code",
   "execution_count": 9,
   "metadata": {},
   "outputs": [
    {
     "data": {
      "text/plain": [
       "array([0, 0, 0, 1])"
      ]
     },
     "execution_count": 9,
     "metadata": {},
     "output_type": "execute_result"
    }
   ],
   "source": [
    "d"
   ]
  },
  {
   "cell_type": "code",
   "execution_count": 10,
   "metadata": {},
   "outputs": [],
   "source": [
    "perceptron = Perceptron(input_size=2)"
   ]
  },
  {
   "cell_type": "code",
   "execution_count": 11,
   "metadata": {},
   "outputs": [
    {
     "data": {
      "text/plain": [
       "array([0., 0., 0.])"
      ]
     },
     "execution_count": 11,
     "metadata": {},
     "output_type": "execute_result"
    }
   ],
   "source": [
    "perceptron.W"
   ]
  },
  {
   "cell_type": "code",
   "execution_count": 12,
   "metadata": {},
   "outputs": [],
   "source": [
    "perceptron.fit(X, d)"
   ]
  },
  {
   "cell_type": "code",
   "execution_count": 13,
   "metadata": {},
   "outputs": [
    {
     "name": "stdout",
     "output_type": "stream",
     "text": [
      "[-3.  2.  1.]\n"
     ]
    }
   ],
   "source": [
    "print(perceptron.W)"
   ]
  },
  {
   "cell_type": "code",
   "execution_count": 14,
   "metadata": {},
   "outputs": [
    {
     "data": {
      "text/plain": [
       "1"
      ]
     },
     "execution_count": 14,
     "metadata": {},
     "output_type": "execute_result"
    }
   ],
   "source": [
    "perceptron.predict(np.asarray([1,1]))"
   ]
  },
  {
   "cell_type": "code",
   "execution_count": 15,
   "metadata": {},
   "outputs": [
    {
     "data": {
      "text/plain": [
       "1"
      ]
     },
     "execution_count": 15,
     "metadata": {},
     "output_type": "execute_result"
    }
   ],
   "source": [
    "mp=Perceptron(5)\n",
    "x=np.asarray([-10,2,-30,4,-50])  ##  ndarray dim different\n",
    "mp.predict(x)"
   ]
  },
  {
   "cell_type": "code",
   "execution_count": 16,
   "metadata": {},
   "outputs": [
    {
     "data": {
      "text/plain": [
       "0"
      ]
     },
     "execution_count": 16,
     "metadata": {},
     "output_type": "execute_result"
    }
   ],
   "source": [
    "mp.activation_fn(-10)"
   ]
  },
  {
   "cell_type": "code",
   "execution_count": 17,
   "metadata": {},
   "outputs": [
    {
     "data": {
      "text/plain": [
       "array([100.,   0.,   0.,   0.,   0.,   0.,   0.])"
      ]
     },
     "execution_count": 17,
     "metadata": {},
     "output_type": "execute_result"
    }
   ],
   "source": [
    "np.insert(mp.W,0,100)"
   ]
  },
  {
   "cell_type": "code",
   "execution_count": null,
   "metadata": {},
   "outputs": [],
   "source": []
  }
 ],
 "metadata": {
  "kernelspec": {
   "display_name": "Python 3",
   "language": "python",
   "name": "python3"
  },
  "language_info": {
   "codemirror_mode": {
    "name": "ipython",
    "version": 3
   },
   "file_extension": ".py",
   "mimetype": "text/x-python",
   "name": "python",
   "nbconvert_exporter": "python",
   "pygments_lexer": "ipython3",
   "version": "3.8.3"
  }
 },
 "nbformat": 4,
 "nbformat_minor": 4
}
