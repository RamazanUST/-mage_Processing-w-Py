{
 "cells": [
  {
   "cell_type": "code",
   "execution_count": 152,
   "metadata": {},
   "outputs": [],
   "source": [
    "import matplotlib.pyplot as plt\n",
    "import numpy as np\n",
    "# import math\n",
    "# from scipy.misc import imsave\n",
    "%matplotlib inline"
   ]
  },
  {
   "cell_type": "code",
   "execution_count": 179,
   "metadata": {},
   "outputs": [],
   "source": [
    "def convert_RGB_to_monochrome_BW(image_1,threshold=100):\n",
    "    img_1=image_1   # plt.imread(image_1)\n",
    "    img_2=np.zeros((img_1.shape[0],img_1.shape[1]))\n",
    "    for i in range(img_2.shape[0]):\n",
    "        for j in range(img_2.shape[1]):\n",
    "            if(img_1[i,j,0]/3+img_1[i,j,1]/3+img_1[i,j,1]/3)>threshold:\n",
    "                img_2[i,j]=0\n",
    "            else:\n",
    "                img_2[i,j]=1\n",
    "    return img_2"
   ]
  },
  {
   "cell_type": "code",
   "execution_count": 180,
   "metadata": {},
   "outputs": [],
   "source": [
    "def m_f_0_and(l1,l2):\n",
    "    n=len(l1)\n",
    "    s=[]\n",
    "    for i in range(n):\n",
    "        a=(l1[i] and l2[i])\n",
    "        s.append(a)\n",
    "    return s\n",
    "\n",
    "def m_f_1_AND_or_OR(l1,operator=0):\n",
    "    if operator :\n",
    "        if 1 in l1:\n",
    "            s1=1\n",
    "        else:\n",
    "            s1=0\n",
    "    else:\n",
    "        if 0 in l1:\n",
    "            s1=0\n",
    "        else:\n",
    "            s1=1\n",
    "    return s1\n",
    "\n",
    "def m_f_2_combine(l1,l2,op=0):\n",
    "    a=m_f_0_and(l1,l2)\n",
    "    return m_f_1_AND_or_OR(a,op)\n",
    "        "
   ]
  },
  {
   "cell_type": "code",
   "execution_count": 181,
   "metadata": {},
   "outputs": [
    {
     "data": {
      "text/plain": [
       "1"
      ]
     },
     "execution_count": 181,
     "metadata": {},
     "output_type": "execute_result"
    }
   ],
   "source": [
    "list_1=[1,1,1,1,1]  # mask\n",
    "list_2=[1,1,1,1,1]  # block\n",
    "m_f_2_combine(list_1,list_2,1)"
   ]
  },
  {
   "cell_type": "code",
   "execution_count": 182,
   "metadata": {},
   "outputs": [
    {
     "data": {
      "text/plain": [
       "('C:\\\\Users\\\\ramaz\\\\Desktop\\\\İmage-Processing\\\\dilation',\n",
       " ['.ipynb_checkpoints', 'Adsız.jpg', 'Untitled.ipynb'])"
      ]
     },
     "execution_count": 182,
     "metadata": {},
     "output_type": "execute_result"
    }
   ],
   "source": [
    "import os\n",
    "os.getcwd(),os.listdir()"
   ]
  },
  {
   "cell_type": "code",
   "execution_count": 183,
   "metadata": {},
   "outputs": [
    {
     "data": {
      "image/png": "[encoded data removed]",
      "text/plain": [
       "<Figure size 432x288 with 2 Axes>"
      ]
     },
     "metadata": {
      "needs_background": "light"
     },
     "output_type": "display_data"
    }
   ],
   "source": [
    "path_file=r\"C:\\\\Users\\\\ramaz\\\\Desktop\\\\İmage-Processing\\\\dilation\\\\Adsız.jpg\"\n",
    "img_1=plt.imread(path_file)\n",
    "\n",
    "img_2=convert_RGB_to_monochrome_BW(img_1,0.5)\n",
    "\n",
    "plt.subplot(1,2,1),plt.imshow(img_1)\n",
    "plt.subplot(1,2,2),plt.imshow(img_2,cmap='gray')\n",
    "\n",
    "plt.show()\n"
   ]
  },
  {
   "cell_type": "code",
   "execution_count": 184,
   "metadata": {},
   "outputs": [
    {
     "data": {
      "text/plain": [
       "(308, 590, 3)"
      ]
     },
     "execution_count": 184,
     "metadata": {},
     "output_type": "execute_result"
    }
   ],
   "source": [
    "img_1.shape"
   ]
  },
  {
   "cell_type": "code",
   "execution_count": 185,
   "metadata": {},
   "outputs": [
    {
     "data": {
      "text/plain": [
       "255"
      ]
     },
     "execution_count": 185,
     "metadata": {},
     "output_type": "execute_result"
    }
   ],
   "source": [
    "np.max(img_1)"
   ]
  },
  {
   "cell_type": "code",
   "execution_count": 186,
   "metadata": {},
   "outputs": [],
   "source": [
    "def define_mask_1():\n",
    "    mask_1=[[1,1,1],[1,1,1],[1,1,1]]\n",
    "       ### mask,mask[1][2],mask[0][0],mask[2][2]  # mask[3][1]   error\n",
    "       ### for i in range(3):\n",
    "       ###     for j in range(3):\n",
    "       ###         print(mask[i][j],end=\"\")\n",
    "       ###     print()\n",
    "    return mask_1\n",
    "def define_mask_2():\n",
    "    mask_1=[[0,0,0],[0,0,0],[0,0,0]]\n",
    "    mask,mask[1][2],mask[0][0],mask[2][2]  # mask[3][1]   error\n",
    "    for i in range(3):\n",
    "        for j in range(3):\n",
    "            print(mask[i][j],end=\"\")\n",
    "        print()\n",
    "    return mask_1\n",
    "def my_dilation(img_1,mask):\n",
    "    m=img_1.shape[0]   # 100\n",
    "    n=img_1.shape[1]   # 100\n",
    "    img_2=np.zeros((m,n),dtype='uint8')\n",
    "    for i in range(1,m-1):   # padding\n",
    "        for j in range(1,n-1):\n",
    "            # print(i,j,img_1[i,j])\n",
    "            # apply_mask_1 for dilation\n",
    "            x_1=img_1[i,j] == mask[1][1]\n",
    "            \n",
    "            x_2=img_1[i-1,j-1] == mask[0][0]\n",
    "            x_3=img_1[i-1,j] == mask[0][1]\n",
    "            x_4=img_1[i-1,j+1] == mask[0][2]\n",
    "            \n",
    "            x_5=img_1[i+1,j-1] == mask[2][0]\n",
    "            x_6=img_1[i+1,j] == mask[2][1]\n",
    "            x_7=img_1[i+1,j+1] == mask[2][2]\n",
    "            \n",
    "            x_8=img_1[i,j-1] == mask[1][0]\n",
    "            x_9=img_1[i,j+1] == mask[1][2]\n",
    "            \n",
    "            result_1=x_1 or x_2 or x_3 or x_4 or x_5\n",
    "            result_2=x_6 or x_7 or x_8 or x_9\n",
    "            \n",
    "            result = result_1 or result_2\n",
    "            \n",
    "            img_2[i,j]=result\n",
    "    return img_2\n",
    "            \n",
    "            "
   ]
  },
  {
   "cell_type": "code",
   "execution_count": 187,
   "metadata": {},
   "outputs": [],
   "source": [
    "img_3=my_dilation(img_2,define_mask_1())\n",
    "img_4=my_dilation(img_3,define_mask_1())\n",
    "img_5=my_dilation(img_4,define_mask_1())\n"
   ]
  },
  {
   "cell_type": "code",
   "execution_count": 188,
   "metadata": {},
   "outputs": [
    {
     "data": {
      "image/png": "[encoded data removed]",
      "text/plain": [
       "<Figure size 1080x1080 with 3 Axes>"
      ]
     },
     "metadata": {
      "needs_background": "light"
     },
     "output_type": "display_data"
    }
   ],
   "source": [
    "plt.figure(figsize=(15,15))\n",
    "plt.subplot(1,3,1),plt.imshow(img_1)\n",
    "plt.subplot(1,3,2),plt.imshow(img_2,cmap='gray')\n",
    "plt.subplot(1,3,3),plt.imshow(img_5,cmap='gray')\n",
    "plt.show()\n"
   ]
  },
  {
   "cell_type": "code",
   "execution_count": null,
   "metadata": {},
   "outputs": [],
   "source": []
  }
 ],
 "metadata": {
  "kernelspec": {
   "display_name": "Python 3",
   "language": "python",
   "name": "python3"
  },
  "language_info": {
   "codemirror_mode": {
    "name": "ipython",
    "version": 3
   },
   "file_extension": ".py",
   "mimetype": "text/x-python",
   "name": "python",
   "nbconvert_exporter": "python",
   "pygments_lexer": "ipython3",
   "version": "3.8.3"
  }
 },
 "nbformat": 4,
 "nbformat_minor": 4
}
